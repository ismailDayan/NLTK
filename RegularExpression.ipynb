{
 "cells": [
  {
   "cell_type": "code",
   "execution_count": 15,
   "metadata": {},
   "outputs": [
    {
     "name": "stdout",
     "output_type": "stream",
     "text": [
      "search --> searchObj.group() :  dogs\n"
     ]
    }
   ],
   "source": [
    "import re;\n",
    "line = \"Cats are smarter than dogs\"\n",
    "\n",
    "searchObj = re.search( r'dogs', line, re.M|re.I)\n",
    "if searchObj:\n",
    "   print (\"search --> searchObj.group() : \", searchObj.group())\n",
    "else:\n",
    "   print (\"Nothing found!!\")"
   ]
  },
  {
   "cell_type": "code",
   "execution_count": 18,
   "metadata": {},
   "outputs": [
    {
     "name": "stdout",
     "output_type": "stream",
     "text": [
      "search --> searchObj.group() :  W\n"
     ]
    }
   ],
   "source": [
    "import re;\n",
    "line = \"We should call it ‘Drenched Blossoms\"\n",
    "\n",
    "searchObj = re.search( r'[A-Z]', line, re.M|re.I)\n",
    "if searchObj:\n",
    "   print (\"search --> searchObj.group() : \", searchObj.group())\n",
    "else:\n",
    "   print (\"Nothing found!!\")"
   ]
  },
  {
   "cell_type": "code",
   "execution_count": 20,
   "metadata": {},
   "outputs": [
    {
     "name": "stdout",
     "output_type": "stream",
     "text": [
      "Phone Num :  2004-959-559 \n",
      "Phone Num :  2004959559\n"
     ]
    }
   ],
   "source": [
    "import re\n",
    "\n",
    "phone = \"2004-959-559 # This is Phone Number\"\n",
    "\n",
    "# Delete Python-style comments\n",
    "num = re.sub(r'#.*$', \"\", phone)\n",
    "print (\"Phone Num : \", num)\n",
    "\n",
    "# Remove anything other than digits\n",
    "num = re.sub(r'\\D', \"\", phone)    \n",
    "print (\"Phone Num : \", num)"
   ]
  },
  {
   "cell_type": "code",
   "execution_count": 3,
   "metadata": {},
   "outputs": [
    {
     "name": "stdout",
     "output_type": "stream",
     "text": [
      "search --> searchObj.group() :  Woodchuck\n"
     ]
    }
   ],
   "source": [
    "#Regular Expression Example #1\n",
    "import re;\n",
    "line = \"Woodchuck, woodchuck\"\n",
    "\n",
    "searchObj = re.search( r'[wW]oodchuck', line, re.M|re.I)\n",
    "if searchObj:\n",
    "   print (\"search --> searchObj.group() : \", searchObj.group())\n",
    "else:\n",
    "   print (\"Nothing found!!\")"
   ]
  },
  {
   "cell_type": "code",
   "execution_count": 4,
   "metadata": {},
   "outputs": [
    {
     "name": "stdout",
     "output_type": "stream",
     "text": [
      "search --> searchObj.group() :  2\n"
     ]
    }
   ],
   "source": [
    "#Regular Expression Example #2\n",
    "import re;\n",
    "line = \"Woodchuck,2342345235 woodchuck\"\n",
    "\n",
    "searchObj = re.search( r'[1234567890]', line, re.M|re.I) #[0-9]\n",
    "\n",
    "if searchObj:\n",
    "   print (\"search --> searchObj.group() : \", searchObj.group())\n",
    "else:\n",
    "   print (\"Nothing found!!\")"
   ]
  },
  {
   "cell_type": "code",
   "execution_count": 5,
   "metadata": {},
   "outputs": [
    {
     "name": "stdout",
     "output_type": "stream",
     "text": [
      "search --> searchObj.group() :  D\n"
     ]
    }
   ],
   "source": [
    "#Regular Expression Example #3\n",
    "import re;\n",
    "line = \"Drenched Blossoms\"\n",
    "\n",
    "searchObj = re.search( r'[A-Z]', line, re.M|re.I)\n",
    "if searchObj:\n",
    "   print (\"search --> searchObj.group() : \", searchObj.group())\n",
    "else:\n",
    "   print (\"Nothing found!!\")"
   ]
  },
  {
   "cell_type": "code",
   "execution_count": 6,
   "metadata": {},
   "outputs": [
    {
     "name": "stdout",
     "output_type": "stream",
     "text": [
      "search --> searchObj.group() :  m\n"
     ]
    }
   ],
   "source": [
    "#Regular Expression Example #4\n",
    "import re;\n",
    "line = \"my beans were impatient\"\n",
    "\n",
    "searchObj = re.search( r'[a-z]', line, re.M|re.I)\n",
    "if searchObj:\n",
    "   print (\"search --> searchObj.group() : \", searchObj.group())\n",
    "else:\n",
    "   print (\"Nothing found!!\")"
   ]
  },
  {
   "cell_type": "code",
   "execution_count": 8,
   "metadata": {},
   "outputs": [
    {
     "name": "stdout",
     "output_type": "stream",
     "text": [
      "search --> searchObj.group() :  W\n"
     ]
    }
   ],
   "source": [
    "#Regular Expression Example # 5\n",
    "import re;\n",
    "line = \"We looked! Then we saw him step is on the mat. We looked! And we saw him! The cat is the Hat!\"\n",
    "\n",
    "#searchObj = re.search( r'[Ww]', line, re.M|re.I)\n",
    "#searchObj = re.search( r'[a-z]', line, re.M|re.I)\n",
    "searchObj = re.search( r'[A-Za-z]', line, re.M|re.I)\n",
    "#searchObj = re.search( r'[^A-Za-z]', line, re.M|re.I)\n",
    "#searchObj = re.search( r'[Ww]', line, re.M|re.I)\n",
    "if searchObj:\n",
    "   print (\"search --> searchObj.group() : \", searchObj.group())\n",
    "else:\n",
    "   print (\"Nothing found!!\")"
   ]
  },
  {
   "cell_type": "code",
   "execution_count": null,
   "metadata": {
    "collapsed": true
   },
   "outputs": [],
   "source": []
  }
 ],
 "metadata": {
  "kernelspec": {
   "display_name": "Python 3",
   "language": "python",
   "name": "python3"
  },
  "language_info": {
   "codemirror_mode": {
    "name": "ipython",
    "version": 3
   },
   "file_extension": ".py",
   "mimetype": "text/x-python",
   "name": "python",
   "nbconvert_exporter": "python",
   "pygments_lexer": "ipython3",
   "version": "3.6.3"
  }
 },
 "nbformat": 4,
 "nbformat_minor": 2
}
