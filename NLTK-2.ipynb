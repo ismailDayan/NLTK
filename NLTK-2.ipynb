{
 "cells": [
  {
   "cell_type": "code",
   "execution_count": null,
   "metadata": {},
   "outputs": [
    {
     "name": "stdout",
     "output_type": "stream",
     "text": [
      "showing info https://raw.githubusercontent.com/nltk/nltk_data/gh-pages/index.xml\n"
     ]
    }
   ],
   "source": [
    "import nltk\n",
    "nltk.download()"
   ]
  },
  {
   "cell_type": "code",
   "execution_count": 13,
   "metadata": {},
   "outputs": [
    {
     "name": "stdout",
     "output_type": "stream",
     "text": [
      "179\n",
      "{'their', 'y', 'some', 'wouldn', \"isn't\", 'he', 'have', 'all', 'having', 'below', 'under', 'll', 'further', 'own', 'ma', 'other', 'your', 'by', 'don', 'about', \"needn't\", 'couldn', 'more', 'what', 'haven', 'didn', 'needn', 'of', 'himself', 'those', \"that'll\", 'until', 'how', 'because', 'again', 'whom', 'there', 'each', 'it', \"weren't\", 'had', 'i', 'my', 'should', \"she's\", 'our', 'me', 'him', 'isn', 'than', 'into', 'hers', 'm', 'during', 'd', 'will', 'shouldn', 'between', 'aren', 'hasn', 'or', 're', 'shan', 'that', \"shouldn't\", 'does', 'most', 'won', \"hasn't\", 'are', 'herself', 'yourself', 'hadn', \"won't\", 'here', \"didn't\", 'same', 'nor', 'very', 'them', 'yours', 'o', 'be', 'off', 'now', \"you've\", \"wouldn't\", \"you'd\", \"it's\", 'out', 'only', 'to', 'theirs', 'from', 'for', 'mustn', 'which', 'then', 'the', 'can', 'up', 'while', 'in', 'why', 'his', 'been', 'weren', \"mightn't\", 'you', 'were', 'a', 'where', 's', 'if', \"you're\", 'her', 'once', 'these', 'any', 'as', 'above', 'before', 'not', 'ain', 'mightn', \"you'll\", 'did', 'when', 'so', 'this', 'myself', 'and', 'over', \"should've\", 'has', 'just', 'no', 'few', 'its', 'itself', \"don't\", 'they', 'after', 'do', \"haven't\", \"shan't\", 'too', 'doesn', 'but', 'such', 'themselves', \"mustn't\", 'at', 't', 've', 'ourselves', \"hadn't\", 'both', 'on', 'who', 'yourselves', \"doesn't\", 'with', 'she', 'is', 'against', \"aren't\", \"couldn't\", 'we', 'through', 'wasn', 'ours', 'being', 'doing', \"wasn't\", 'down', 'an', 'am', 'was'}\n"
     ]
    }
   ],
   "source": [
    "import nltk\n",
    "from nltk.tokenize import sent_tokenize, word_tokenize\n",
    "from nltk.corpus import stopwords\n",
    "data = \"All work and no play makes jack a to be as for also has dull boy. All work and no play makes jack a dull boy.\"\n",
    "stopWords = set(stopwords.words('english'))\n",
    "print(len(stopWords))\n",
    "print(stopWords)\n",
    "\n",
    "phrases = sent_tokenize(data)\n",
    "words = word_tokenize(data)\n",
    " \n",
    "print(phrases)\n",
    "print(words)\n",
    "\n",
    "# StopWods\n",
    "\n",
    "wordsFiltered = []\n",
    " \n",
    "for w in words:\n",
    "    if w not in stopWords:\n",
    "        wordsFiltered.append(w)\n",
    " \n",
    "print(\"Filtered Words:\" +wordsFiltered)\n"
   ]
  },
  {
   "cell_type": "code",
   "execution_count": 16,
   "metadata": {},
   "outputs": [
    {
     "name": "stdout",
     "output_type": "stream",
     "text": [
      "gaming:game\n",
      ",:,\n",
      "the:the\n",
      "gamer:gamer\n",
      "playing:play\n",
      "games:game\n"
     ]
    }
   ],
   "source": [
    "#Stemming\n",
    "from nltk.stem import PorterStemmer\n",
    "from nltk.tokenize import sent_tokenize, word_tokenize\n",
    " \n",
    "ps = PorterStemmer()\n",
    " \n",
    "sentence = \"gaming, the gamer playing games\"\n",
    "words = word_tokenize(sentence)\n",
    " \n",
    "for w in words:\n",
    "    print(w + \":\" + ps.stem(w))"
   ]
  },
  {
   "cell_type": "code",
   "execution_count": 17,
   "metadata": {},
   "outputs": [
    {
     "name": "stdout",
     "output_type": "stream",
     "text": [
      "[('Whether', 'IN'), ('you', 'PRP'), (\"'re\", 'VBP'), ('new', 'JJ'), ('to', 'TO'), ('programming', 'VBG'), ('or', 'CC'), ('an', 'DT'), ('experienced', 'JJ'), ('developer', 'NN'), (',', ','), ('it', 'PRP'), (\"'s\", 'VBZ'), ('easy', 'JJ'), ('to', 'TO'), ('learn', 'VB'), ('and', 'CC'), ('use', 'VB'), ('Python', 'NNP'), ('.', '.')]\n"
     ]
    }
   ],
   "source": [
    "#NLTK – speech tagging example\n",
    "import nltk\n",
    "from nltk.tokenize import PunktSentenceTokenizer\n",
    " \n",
    "document = 'Whether you\\'re new to programming or an experienced developer, it\\'s easy to learn and use Python.'\n",
    "sentences = nltk.sent_tokenize(document)   \n",
    "for sent in sentences:\n",
    "    print(nltk.pos_tag(nltk.word_tokenize(sent)))"
   ]
  },
  {
   "cell_type": "code",
   "execution_count": 18,
   "metadata": {},
   "outputs": [
    {
     "name": "stdout",
     "output_type": "stream",
     "text": [
      "('Netherlands', 'NNP')\n",
      "('King', 'NNP')\n",
      "('Day', 'NNP')\n",
      "('San', 'NNP')\n",
      "('Francisco', 'NNP')\n"
     ]
    }
   ],
   "source": [
    "import nltk\n",
    "from nltk.corpus import state_union\n",
    "from nltk.tokenize import PunktSentenceTokenizer\n",
    " \n",
    "document = 'Today the Netherlands celebrates King\\'s Day. To honor this tradition, the Dutch embassy in San Francisco invited me to'\n",
    "sentences = nltk.sent_tokenize(document)   \n",
    " \n",
    "data = []\n",
    "for sent in sentences:\n",
    "    data = data + nltk.pos_tag(nltk.word_tokenize(sent))\n",
    " \n",
    "for word in data: \n",
    "    if 'NNP' in word[1]: \n",
    "        print(word)"
   ]
  },
  {
   "cell_type": "code",
   "execution_count": 21,
   "metadata": {},
   "outputs": [],
   "source": [
    "#Prediction\n",
    "#NLP prediction example\n",
    "from nltk.corpus import names\n",
    " \n",
    "# Load data and training \n",
    "names = ([(name, 'male') for name in names.words('male.txt')] + \n",
    "[(name, 'female') for name in names.words('female.txt')])\n",
    "#print(names)"
   ]
  },
  {
   "cell_type": "code",
   "execution_count": 27,
   "metadata": {},
   "outputs": [
    {
     "name": "stdout",
     "output_type": "stream",
     "text": [
      "male\n",
      "Name: Waqasa\n",
      "female\n"
     ]
    }
   ],
   "source": [
    "#Gender Classifier\n",
    "import nltk.classify.util\n",
    "from nltk.classify import NaiveBayesClassifier\n",
    "from nltk.corpus import names\n",
    " \n",
    "def gender_features(word): \n",
    "    return {'last_letter': word[-1]} \n",
    " \n",
    "# Load data and training \n",
    "names = ([(name, 'male') for name in names.words('male.txt')] + \n",
    "\t [(name, 'female') for name in names.words('female.txt')])\n",
    " \n",
    "featuresets = [(gender_features(n), g) for (n,g) in names] \n",
    "train_set = featuresets\n",
    "classifier = nltk.NaiveBayesClassifier.train(train_set) \n",
    " \n",
    "# Predict\n",
    "print(classifier.classify(gender_features('Frank')))\n",
    "#If you want to give the name during runtime, change the last line to:\n",
    "\n",
    "# Predict\n",
    "name = input(\"Name: \")\n",
    "print(classifier.classify(gender_features(name)))"
   ]
  },
  {
   "cell_type": "code",
   "execution_count": 25,
   "metadata": {},
   "outputs": [
    {
     "name": "stdout",
     "output_type": "stream",
     "text": [
      "Positive: 0.42857142857142855\n",
      "Negative: 0.42857142857142855\n"
     ]
    }
   ],
   "source": [
    "#Sentiment Analysis\n",
    "import nltk.classify.util\n",
    "from nltk.classify import NaiveBayesClassifier\n",
    "from nltk.corpus import names\n",
    " \n",
    "def word_feats(words):\n",
    "    return dict([(word, True) for word in words])\n",
    " \n",
    "positive_vocab = [ 'awesome', 'outstanding', 'fantastic', 'terrific', 'good', 'nice', 'great', ':)' ]\n",
    "negative_vocab = [ 'bad', 'terrible','useless', 'hate', ':(' ]\n",
    "neutral_vocab = [ 'movie','the','sound','was','is','actors','did','know','words','not' ]\n",
    " \n",
    "positive_features = [(word_feats(pos), 'pos') for pos in positive_vocab]\n",
    "negative_features = [(word_feats(neg), 'neg') for neg in negative_vocab]\n",
    "neutral_features = [(word_feats(neu), 'neu') for neu in neutral_vocab]\n",
    " \n",
    "train_set = negative_features + positive_features + neutral_features\n",
    " \n",
    "classifier = NaiveBayesClassifier.train(train_set) \n",
    " \n",
    "# Predict\n",
    "neg = 0\n",
    "pos = 0\n",
    "sentence = \"Awesome terrible bad movie, I liked it\"\n",
    "sentence = sentence.lower()\n",
    "words = sentence.split(' ')\n",
    "for word in words:\n",
    "    classResult = classifier.classify( word_feats(word))\n",
    "    if classResult == 'neg':\n",
    "        neg = neg + 1\n",
    "    if classResult == 'pos':\n",
    "        pos = pos + 1\n",
    " \n",
    "print('Positive: ' + str(float(pos)/len(words)))\n",
    "print('Negative: ' + str(float(neg)/len(words)))"
   ]
  },
  {
   "cell_type": "code",
   "execution_count": null,
   "metadata": {
    "collapsed": true
   },
   "outputs": [],
   "source": []
  }
 ],
 "metadata": {
  "kernelspec": {
   "display_name": "Python 3",
   "language": "python",
   "name": "python3"
  },
  "language_info": {
   "codemirror_mode": {
    "name": "ipython",
    "version": 3
   },
   "file_extension": ".py",
   "mimetype": "text/x-python",
   "name": "python",
   "nbconvert_exporter": "python",
   "pygments_lexer": "ipython3",
   "version": "3.6.3"
  }
 },
 "nbformat": 4,
 "nbformat_minor": 2
}
